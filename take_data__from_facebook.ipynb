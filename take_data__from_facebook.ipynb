{
  "nbformat": 4,
  "nbformat_minor": 0,
  "metadata": {
    "colab": {
      "name": "take_data _from_facebook.ipynb",
      "provenance": [],
      "include_colab_link": true
    },
    "kernelspec": {
      "name": "python3",
      "display_name": "Python 3"
    }
  },
  "cells": [
    {
      "cell_type": "markdown",
      "metadata": {
        "id": "view-in-github",
        "colab_type": "text"
      },
      "source": [
        "<a href=\"https://colab.research.google.com/github/vimalkumarmdb/crate-data-using-facbook-api/blob/master/take_data__from_facebook.ipynb\" target=\"_parent\"><img src=\"https://colab.research.google.com/assets/colab-badge.svg\" alt=\"Open In Colab\"/></a>"
      ]
    },
    {
      "cell_type": "code",
      "metadata": {
        "id": "gU1saK8cvkGI",
        "colab_type": "code",
        "colab": {
          "base_uri": "https://localhost:8080/",
          "height": 170
        },
        "outputId": "781ccb8c-bda7-4eb7-b1c0-9f0f37cc9a45"
      },
      "source": [
        "!pip install facebook-sdk"
      ],
      "execution_count": 2,
      "outputs": [
        {
          "output_type": "stream",
          "text": [
            "Collecting facebook-sdk\n",
            "  Downloading https://files.pythonhosted.org/packages/79/d7/4cb0f5930f79205cc45db22e17fa716396d813c3d6b8d5de77783a5fa59a/facebook_sdk-3.1.0-py2.py3-none-any.whl\n",
            "Requirement already satisfied: requests in /usr/local/lib/python3.6/dist-packages (from facebook-sdk) (2.21.0)\n",
            "Requirement already satisfied: idna<2.9,>=2.5 in /usr/local/lib/python3.6/dist-packages (from requests->facebook-sdk) (2.8)\n",
            "Requirement already satisfied: certifi>=2017.4.17 in /usr/local/lib/python3.6/dist-packages (from requests->facebook-sdk) (2019.9.11)\n",
            "Requirement already satisfied: chardet<3.1.0,>=3.0.2 in /usr/local/lib/python3.6/dist-packages (from requests->facebook-sdk) (3.0.4)\n",
            "Requirement already satisfied: urllib3<1.25,>=1.21.1 in /usr/local/lib/python3.6/dist-packages (from requests->facebook-sdk) (1.24.3)\n",
            "Installing collected packages: facebook-sdk\n",
            "Successfully installed facebook-sdk-3.1.0\n"
          ],
          "name": "stdout"
        }
      ]
    },
    {
      "cell_type": "code",
      "metadata": {
        "id": "f80mu3n2v10q",
        "colab_type": "code",
        "colab": {}
      },
      "source": [
        "import json\n",
        "import facebook"
      ],
      "execution_count": 0,
      "outputs": []
    },
    {
      "cell_type": "code",
      "metadata": {
        "id": "LAT39pMwwpXo",
        "colab_type": "code",
        "colab": {
          "base_uri": "https://localhost:8080/",
          "height": 425
        },
        "outputId": "9e5056d5-03dc-4d08-b76e-761f886dadf5"
      },
      "source": [
        "def main():\n",
        "  token = {\"EAAGgvLZCBXxcBAN8zG1ag9ZAhtqVwR9PfwZCZBztMemYLWQYZBA5NOC50TdAw9idjOpwIay1KXYoGrm7lf4BahWdEnz3PJCuXmXBSZBKIHJ1HD5Y2Jwx7SbCQUQ3BlvSzjxQZBLPpyRpjK4bNR5tJ0gSIiTTZC3TzEWZAGKtbbOrCpZAZAkxabJkcdLQenQeaVxQ38vJGOvFsQ0NAZDZD\"}\n",
        "  graph = facebook.GraphAPI(token)\n",
        "  fields  = ['name,birthday,gender,hometown,languages']\n",
        "  profile = graph.get_object('me',fields = fields)\n",
        "  print(json.dumps(profile,indent= 6))\n",
        "if __name__ == \"__main__\": \n",
        "  main()"
      ],
      "execution_count": 10,
      "outputs": [
        {
          "output_type": "stream",
          "text": [
            "{\n",
            "      \"name\": \"Bimal Kumar\",\n",
            "      \"birthday\": \"03/08/1994\",\n",
            "      \"gender\": \"male\",\n",
            "      \"hometown\": {\n",
            "            \"id\": \"107568889265655\",\n",
            "            \"name\": \"Madhubani, India\"\n",
            "      },\n",
            "      \"languages\": [\n",
            "            {\n",
            "                  \"id\": \"105466569486228\",\n",
            "                  \"name\": \"Maithili language\"\n",
            "            },\n",
            "            {\n",
            "                  \"id\": \"112969428713061\",\n",
            "                  \"name\": \"Hindi\"\n",
            "            },\n",
            "            {\n",
            "                  \"id\": \"106059522759137\",\n",
            "                  \"name\": \"English language\"\n",
            "            }\n",
            "      ],\n",
            "      \"id\": \"1082218301980127\"\n",
            "}\n"
          ],
          "name": "stdout"
        }
      ]
    },
    {
      "cell_type": "code",
      "metadata": {
        "id": "_Ssl7NQg09i9",
        "colab_type": "code",
        "colab": {}
      },
      "source": [
        ""
      ],
      "execution_count": 0,
      "outputs": []
    }
  ]
}